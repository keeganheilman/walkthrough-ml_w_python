{
 "cells": [
  {
   "cell_type": "code",
   "execution_count": 4,
   "metadata": {},
   "outputs": [],
   "source": [
    "import sys\n",
    "import sklearn\n",
    "import mglearn\n",
    "import numpy as np\n",
    "import pandas as pd\n",
    "import matplotlib.pyplot as plt\n"
   ]
  },
  {
   "cell_type": "markdown",
   "metadata": {},
   "source": [
    "# Unsupervised Learning and Preprocessing\n",
    "- subsumes all kinds of machine learning where there is no known output, no teacher to instruct the learning algorithm\n",
    "- the learning algorithm is just shown the input data and asked to extract knowledge from this data\n"
   ]
  },
  {
   "cell_type": "markdown",
   "metadata": {},
   "source": [
    "## Types of Unsupervised Learning\n",
    "- looking at two kinds of unsupervised learning\n",
    "1. Transformations of the dataset\n",
    "2. Clustering\n"
   ]
  },
  {
   "cell_type": "markdown",
   "metadata": {},
   "source": [
    "### Unsupervised transformations of a dataset\n",
    "- create a new representation of the data which might be easier for humans or other machine learning algorithms to understand compared to the original representation of the data\n",
    "- commonly used as dimensionality reduction, taking a high-dimensional representation of the data and find a new way to represent this data that summarizes the essential characteristics with fewer features. Often reduced to two dimensions for visualization purposes\n",
    "- finding the parts or components that \"make up\" the data (ie Topic Extraction)\n",
    "\n",
    "### Clustering algorithms\n",
    "- partition data into distinct groups of similar items (ie uploading photos to a social media site to group together pictures that show the same person)\n",
    "\n"
   ]
  },
  {
   "cell_type": "markdown",
   "metadata": {},
   "source": [
    "## Challenges in Unsupervised Learning\n",
    "- evaluating whether the algorithm learned something useful?\n",
    "- often manual inspection is the manner in which we evaluate the results\n",
    "- unsupervised algorithms are used often in an exploratory setting to better understand the data\n",
    "- we will use unsupervised algorithms as a preprocessing step for supervised algorithms, as learning new representation of the data can sometimes imporve the accuracy of supervised algorithms, or reduce memory or time consumption\n",
    "\n"
   ]
  }
 ],
 "metadata": {
  "interpreter": {
   "hash": "916dbcbb3f70747c44a77c7bcd40155683ae19c65e1c03b4aa3499c5328201f1"
  },
  "kernelspec": {
   "display_name": "Python 3.8.10 64-bit",
   "language": "python",
   "name": "python3"
  },
  "language_info": {
   "codemirror_mode": {
    "name": "ipython",
    "version": 3
   },
   "file_extension": ".py",
   "mimetype": "text/x-python",
   "name": "python",
   "nbconvert_exporter": "python",
   "pygments_lexer": "ipython3",
   "version": "3.8.10"
  },
  "orig_nbformat": 4
 },
 "nbformat": 4,
 "nbformat_minor": 2
}
