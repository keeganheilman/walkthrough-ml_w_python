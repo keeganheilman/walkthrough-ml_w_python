{
 "cells": [
  {
   "cell_type": "markdown",
   "metadata": {},
   "source": [
    "# Unsupervised Learning and Preprocessing\n",
    "- subsumes all kinds of machine learning where there is no known output, no teacher to instruct the learning algorithm\n",
    "- the learning algorithm is just shown the input data and asked to extract knowledge from this data\n"
   ]
  },
  {
   "cell_type": "markdown",
   "metadata": {},
   "source": [
    "## Types of Unsupervised Learning\n",
    "- looking at two kinds of unsupervised learning\n",
    "1. Transformations of the dataset\n",
    "2. Clustering\n"
   ]
  },
  {
   "cell_type": "markdown",
   "metadata": {},
   "source": [
    "### Unsupervised transformations of a dataset\n",
    "- create a new representation of the data which might be easier for humans or other machine learning algorithms to understand compared to the original representation of the data\n",
    "- commonly used as dimensionality reduction, taking a high-dimensional representation of the data and find a new way to represent this data that summarizes the essential characteristics with fewer features. Often reduced to two dimensions for visualization purposes\n"
   ]
  }
 ],
 "metadata": {
  "language_info": {
   "name": "python"
  },
  "orig_nbformat": 4
 },
 "nbformat": 4,
 "nbformat_minor": 2
}
