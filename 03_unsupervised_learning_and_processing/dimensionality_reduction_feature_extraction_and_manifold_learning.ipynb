{
 "cells": [
  {
   "cell_type": "markdown",
   "metadata": {},
   "source": [
    "# Dimensionality Reduction , Feature Extraction, and Manifold Learning\n",
    "- common motivations are visualization, compressing the data, and finding a representation that is more informative for futher processing\n",
    "- PCA is one of the simplest and most widely used algorithms for all of these\n",
    "- NMF commonly used for feature extraction\n",
    "- t-SNE commonly used for visualization using two dinemsional scatter plots\n"
   ]
  },
  {
   "cell_type": "markdown",
   "metadata": {},
   "source": [
    "## Principal Component Analysis (PCA)\n"
   ]
  }
 ],
 "metadata": {
  "language_info": {
   "name": "python"
  },
  "orig_nbformat": 4
 },
 "nbformat": 4,
 "nbformat_minor": 2
}
