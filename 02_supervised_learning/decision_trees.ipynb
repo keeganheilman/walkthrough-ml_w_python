{
 "cells": [
  {
   "cell_type": "markdown",
   "metadata": {},
   "source": [
    "# Decision Trees"
   ]
  },
  {
   "cell_type": "markdown",
   "metadata": {},
   "source": [
    "widely used models for classification and regression tasks formed of a hierarchy of if/else questions, leading to a decision."
   ]
  },
  {
   "cell_type": "code",
   "execution_count": 2,
   "metadata": {},
   "outputs": [],
   "source": [
    "import sys\n",
    "import numpy as np\n",
    "import pandas as pd\n",
    "import scipy as sp\n",
    "import sklearn\n",
    "import mglearn\n",
    "import matplotlib.pyplot as plt"
   ]
  },
  {
   "cell_type": "code",
   "execution_count": null,
   "metadata": {},
   "outputs": [],
   "source": [
    "!pip3 uninstall graphviz y"
   ]
  },
  {
   "cell_type": "code",
   "execution_count": 6,
   "metadata": {},
   "outputs": [],
   "source": [
    "# mglearn.plots.plot_animal_tree()"
   ]
  },
  {
   "cell_type": "markdown",
   "metadata": {},
   "source": [
    "## Building decision trees\n",
    "tests areused to learn the sequence of if/else questions that gets us to the true answer most quickly. For continuous data the form of question appears as \"Is feature *i* larger than value *a*?\""
   ]
  },
  {
   "cell_type": "markdown",
   "metadata": {},
   "source": [
    "The algorithm searches over all possible tests and fins the one that is most informative about the target variable.\n",
    "The recursive process yields a binary tree of decisions, with each node containing a test, building a hierarchical partition. The recursive partitioning of the data is repeated until each region in the partition (each leaf in the decision tree) only contrains a single target value (single class or a single regression value). A leafe of the tree that contains data points that all share the same target value is called *pure*. The output of a test data point, is the traversal of the decision tree until it reaches a leaf and then predicts the majority (or mean, in the case of regression) target."
   ]
  },
  {
   "cell_type": "markdown",
   "metadata": {},
   "source": [
    "## Controlling complexity of decision trees\n",
    "Continuing building a tree until it has all *pure* leaves leads to a very complex and highly overfit model. Outliers can lead to uninformative decision boundary. There are two common strategies to prevent overfitting: pre-prunning and post-pruning (or just pruning). Pre-prunning my include limiting the maximum depth of the tree, limiting the maximum number of leaves, or requiring a minimum number of points in a node to keep splitting. Sckit-learn only implements pre-pruning, not post-pruning.\n"
   ]
  },
  {
   "cell_type": "code",
   "execution_count": null,
   "metadata": {},
   "outputs": [],
   "source": [
    "from sklearn.tree import DecisionTreeClassifier\n",
    "\n",
    "cancer = load_breast_cancer()\n",
    "X_train, X-test, y_train, y_test = train_test_split(\n",
    "    cancer.data, cancer.target, stratify=cancer.target, random=42)\n",
    "tree = DecisionTreeClassifier(random_state=0)\n",
    "tree."
   ]
  }
 ],
 "metadata": {
  "kernelspec": {
   "display_name": "Python 3",
   "language": "python",
   "name": "python3"
  },
  "language_info": {
   "codemirror_mode": {
    "name": "ipython",
    "version": 3
   },
   "file_extension": ".py",
   "mimetype": "text/x-python",
   "name": "python",
   "nbconvert_exporter": "python",
   "pygments_lexer": "ipython3",
   "version": "3.8.10"
  }
 },
 "nbformat": 4,
 "nbformat_minor": 4
}
